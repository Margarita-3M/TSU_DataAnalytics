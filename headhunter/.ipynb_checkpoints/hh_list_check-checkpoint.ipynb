{
 "cells": [
  {
   "cell_type": "markdown",
   "id": "cloudy-marriage",
   "metadata": {},
   "source": [
    "# Проверка, что выборка вакансий содержит все вакансии по выбранному фильтру\n",
    "Логика проверки:\n",
    "- Ключ 'found' в файле со списком вакансий указывает на количество вакансий, которые запрос вернул.\n",
    "- HH.RU API позволяет вернуть только до 2000 вакансий включительно.\n",
    "- Успешной будет та выгрузка, в которой значение ключа 'found' не превышает 2000 вакансий."
   ]
  },
  {
   "cell_type": "code",
   "execution_count": null,
   "id": "trained-maple",
   "metadata": {},
   "outputs": [],
   "source": [
    "import json\n",
    "import os\n",
    "import pandas as pd"
   ]
  },
  {
   "cell_type": "code",
   "execution_count": null,
   "id": "isolated-appliance",
   "metadata": {},
   "outputs": [],
   "source": [
    "# создаем пустой датафрейм\n",
    "df_found = pd.DataFrame({'file_name': [], 'found': []})\n",
    "\n",
    "# Получаем перечень ранее созданных файлов со списком вакансий и проходимся по нему в цикле \n",
    "for fl in os.listdir('./vacancies_list'):\n",
    "\n",
    "    # Открываем файл, читаем его содержимое, закрываем файл\n",
    "    with open('./vacancies_list/{}'.format(fl), 'r', encoding='utf8') as f:\n",
    "        jsonText = f.read()\n",
    "     \n",
    "    # Преобразуем полученный текст в объект справочника\n",
    "    jsonObj = json.loads(jsonText)\n",
    "    \n",
    "    # Получаем количество найденных вакансий\n",
    "    df_found = df_found.append(\n",
    "        {\n",
    "            'file_name': fl,\n",
    "            'found': jsonObj['found']\n",
    "        }, \n",
    "        ignore_index=True)\n",
    "\n",
    "df_found.head()"
   ]
  },
  {
   "cell_type": "code",
   "execution_count": null,
   "id": "organized-threat",
   "metadata": {},
   "outputs": [],
   "source": [
    "assert len(df_found[df_found['found'] >= 2000]) == 0"
   ]
  }
 ],
 "metadata": {
  "kernelspec": {
   "display_name": "Python 3",
   "language": "python",
   "name": "python3"
  },
  "language_info": {
   "codemirror_mode": {
    "name": "ipython",
    "version": 3
   },
   "file_extension": ".py",
   "mimetype": "text/x-python",
   "name": "python",
   "nbconvert_exporter": "python",
   "pygments_lexer": "ipython3",
   "version": "3.7.4"
  }
 },
 "nbformat": 4,
 "nbformat_minor": 5
}
