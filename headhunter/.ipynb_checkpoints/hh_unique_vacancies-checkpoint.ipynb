{
 "cells": [
  {
   "cell_type": "markdown",
   "id": "interpreted-minimum",
   "metadata": {},
   "source": [
    "# Выгружаем описание вакансий\n",
    "\n",
    "*Код вдохновлен статьей https://office-menu.ru/python/96-api-hh*"
   ]
  },
  {
   "cell_type": "code",
   "execution_count": null,
   "id": "dutch-employment",
   "metadata": {},
   "outputs": [],
   "source": [
    "import requests\n",
    "import json\n",
    "import os\n",
    "import time\n",
    "import random\n",
    "import pandas as pd\n",
    "import csv\n",
    "import re"
   ]
  },
  {
   "cell_type": "markdown",
   "id": "coastal-prevention",
   "metadata": {},
   "source": [
    "## Шаг 1 - Подготовка списка уникальных вакансий"
   ]
  },
  {
   "cell_type": "code",
   "execution_count": null,
   "id": "solid-letter",
   "metadata": {},
   "outputs": [],
   "source": [
    "# создаем пустой датафрейм\n",
    "df_vac_list = pd.DataFrame({'id': [], 'name': [], 'area_name': [], 'employer_id': [], 'employer_name': [], 'url': []})\n",
    "\n",
    "# Получаем перечень ранее созданных файлов со списком вакансий и проходимся по нему в цикле и заполняем датафрейм\n",
    "for fl in os.listdir('./vacancies_list'):   \n",
    "    \n",
    "    with open('./vacancies_list/{}'.format(fl), 'r', encoding='utf8') as f_read:\n",
    "        jsonText = f_read.read()\n",
    "    jsonObj = json.loads(jsonText)\n",
    "    \n",
    "    vacancies_list = []\n",
    "    \n",
    "    for v in jsonObj['items']:\n",
    "        vacancy_details = []\n",
    "        vacancy_details.append(v['id'])\n",
    "        vacancy_details.append(v['name'])\n",
    "        vacancy_details.append(v['area']['name'])\n",
    "        try:\n",
    "            vacancy_details.append(v['employer']['id'])\n",
    "        except KeyError:\n",
    "            vacancy_details.append(0)\n",
    "        vacancy_details.append(v['employer']['name'])\n",
    "        vacancy_details.append(v['url'])       \n",
    "        vacancies_list.append(vacancy_details)\n",
    "            \n",
    "    df_temp = pd.DataFrame.from_records(vacancies_list, columns=['id', 'name', 'area_name', 'employer_id', 'employer_name', 'url'])\n",
    "    df_vac_list = df_vac_list.append(df_temp, ignore_index=True)\n",
    "\n",
    "print('Вакансии собраны')"
   ]
  },
  {
   "cell_type": "code",
   "execution_count": null,
   "id": "important-preparation",
   "metadata": {},
   "outputs": [],
   "source": [
    "# подготовка файла для сверки\n",
    "unuqie_url = df_vac_list[['id', 'url']].drop_duplicates()\n",
    "pd.DataFrame(unuqie_url).to_csv('./uniqie_vac_withID.csv', header=True, index=False)\n",
    "# подготовка файла для выгрузки\n",
    "unuqie_url = df_vac_list['url'].unique()\n",
    "pd.DataFrame(unuqie_url).to_csv('./uniqie_vac.csv', header=False, index=False)"
   ]
  },
  {
   "cell_type": "markdown",
   "id": "english-geology",
   "metadata": {},
   "source": [
    "## Шаг 2 - Запрос вакансий"
   ]
  },
  {
   "cell_type": "code",
   "execution_count": null,
   "id": "christian-issue",
   "metadata": {},
   "outputs": [],
   "source": [
    "with open('./uniqie_vac.csv', newline='') as f:\n",
    "    reader = csv.reader(f)\n",
    "    url_list = list(reader)\n",
    "\n",
    "number_vacancies = len(url_list)"
   ]
  },
  {
   "cell_type": "code",
   "execution_count": null,
   "id": "thousand-colorado",
   "metadata": {},
   "outputs": [],
   "source": [
    "count = 0\n",
    "\n",
    "for url in url_list:\n",
    "    # Обращаемся к API и получаем детальную информацию по конкретной вакансии\n",
    "    req = requests.get(url[0])\n",
    "    data = req.content.decode()\n",
    "    req.close()\n",
    "    \n",
    "    # Создаем файл в формате json с идентификатором вакансии в качестве названия\n",
    "    # Записываем в него ответ запроса и закрываем файл\n",
    "    file_name_path = './vacancies_descr/'\n",
    "    vacancy_id = re.findall(r'\\d+', url[0])[0]\n",
    "    file_name_write = file_name_path + vacancy_id + '.json'\n",
    "        \n",
    "    with open(file_name_write, mode='w', encoding='utf8') as f_write:\n",
    "        f_write.write(data)\n",
    "         \n",
    "    if count % 2500 == 0:\n",
    "        time.sleep(30)\n",
    "    elif count % 1500 != 0:\n",
    "        time.sleep(random.uniform(0.25, 1.25))\n",
    "    else:\n",
    "        time.sleep(40)\n",
    "    \n",
    "    count += 1\n",
    "    print(round(count / number_vacancies * 100, 2), '%')\n",
    "                   \n",
    "print('Вакансии собраны')"
   ]
  }
 ],
 "metadata": {
  "kernelspec": {
   "display_name": "Python 3",
   "language": "python",
   "name": "python3"
  },
  "language_info": {
   "codemirror_mode": {
    "name": "ipython",
    "version": 3
   },
   "file_extension": ".py",
   "mimetype": "text/x-python",
   "name": "python",
   "nbconvert_exporter": "python",
   "pygments_lexer": "ipython3",
   "version": "3.7.4"
  }
 },
 "nbformat": 4,
 "nbformat_minor": 5
}
