{
 "cells": [
  {
   "cell_type": "markdown",
   "id": "provincial-prayer",
   "metadata": {},
   "source": [
    "# Выгружаем описание вакансий\n",
    "\n",
    "*Код вдохновлен статьей https://office-menu.ru/python/96-api-hh*"
   ]
  },
  {
   "cell_type": "code",
   "execution_count": null,
   "id": "cultural-there",
   "metadata": {},
   "outputs": [],
   "source": [
    "import requests\n",
    "import json\n",
    "import os\n",
    "import pandas as pd\n",
    "import time"
   ]
  },
  {
   "cell_type": "code",
   "execution_count": null,
   "id": "pregnant-intro",
   "metadata": {},
   "outputs": [],
   "source": [
    "import json\n",
    "import os\n",
    "import requests\n",
    "import time\n",
    " \n",
    "# Получаем перечень ранее созданных файлов со списком вакансий и проходимся по нему в цикле \n",
    "for fl in os.listdir('./vacancies_list'):\n",
    "     \n",
    "    # Открываем файл, читаем его содержимое, закрываем файл\n",
    "    with open('./vacancies_list/{}'.format(fl), 'r', encoding='utf8') as f:\n",
    "        jsonText = f.read()\n",
    "    \n",
    "    # Преобразуем полученный текст в объект справочника\n",
    "    jsonObj = json.loads(jsonText)\n",
    "     \n",
    "    # Получаем и проходимся по непосредственно списку вакансий\n",
    "    for v in jsonObj['items']:\n",
    "         \n",
    "        # Обращаемся к API и получаем детальную информацию по конкретной вакансии\n",
    "        req = requests.get(v['url'])\n",
    "        data = req.content.decode()\n",
    "        req.close()\n",
    "         \n",
    "        # Создаем файл в формате json с идентификатором вакансии в качестве названия\n",
    "        # Записываем в него ответ запроса и закрываем файл\n",
    "        fileName = './vacancies_descr/{}.json'.format(v['id'])\n",
    "        f = open(fileName, mode='w', encoding='utf8')\n",
    "        f.write(data)\n",
    "        f.close()\n",
    "         \n",
    "        time.sleep(0.25)\n",
    "         \n",
    "print('Вакансии собраны')"
   ]
  }
 ],
 "metadata": {
  "kernelspec": {
   "display_name": "Python 3",
   "language": "python",
   "name": "python3"
  },
  "language_info": {
   "codemirror_mode": {
    "name": "ipython",
    "version": 3
   },
   "file_extension": ".py",
   "mimetype": "text/x-python",
   "name": "python",
   "nbconvert_exporter": "python",
   "pygments_lexer": "ipython3",
   "version": "3.7.4"
  }
 },
 "nbformat": 4,
 "nbformat_minor": 5
}
