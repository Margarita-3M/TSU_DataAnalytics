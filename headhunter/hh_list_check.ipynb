{
 "cells": [
  {
   "cell_type": "markdown",
   "id": "driving-feedback",
   "metadata": {},
   "source": [
    "# Проверка, что выборка вакансий содержит все вакансии по выбранному фильтру\n",
    "Логика проверки:\n",
    "- Ключ 'found' в файле со списком вакансий указывает на количество вакансий, которые запрос вернул.\n",
    "- HH.RU API позволяет вернуть только до 2000 вакансий включительно.\n",
    "- Успешной будет та выгрузка, в которой значение ключа 'found' не превышает 2000 вакансий."
   ]
  },
  {
   "cell_type": "code",
   "execution_count": 1,
   "id": "identified-running",
   "metadata": {},
   "outputs": [],
   "source": [
    "import json\n",
    "import os\n",
    "import pandas as pd"
   ]
  },
  {
   "cell_type": "code",
   "execution_count": 9,
   "id": "convertible-table",
   "metadata": {},
   "outputs": [
    {
     "data": {
      "text/html": [
       "<div>\n",
       "<style scoped>\n",
       "    .dataframe tbody tr th:only-of-type {\n",
       "        vertical-align: middle;\n",
       "    }\n",
       "\n",
       "    .dataframe tbody tr th {\n",
       "        vertical-align: top;\n",
       "    }\n",
       "\n",
       "    .dataframe thead th {\n",
       "        text-align: right;\n",
       "    }\n",
       "</style>\n",
       "<table border=\"1\" class=\"dataframe\">\n",
       "  <thead>\n",
       "    <tr style=\"text-align: right;\">\n",
       "      <th></th>\n",
       "      <th>file_name</th>\n",
       "      <th>found</th>\n",
       "    </tr>\n",
       "  </thead>\n",
       "  <tbody>\n",
       "    <tr>\n",
       "      <th>0</th>\n",
       "      <td>1-1-noExperience-1.395-0.json</td>\n",
       "      <td>16.0</td>\n",
       "    </tr>\n",
       "    <tr>\n",
       "      <th>1</th>\n",
       "      <td>10-1-noExperience-1.10-0.json</td>\n",
       "      <td>32.0</td>\n",
       "    </tr>\n",
       "    <tr>\n",
       "      <th>2</th>\n",
       "      <td>100-1-between1And3-1.117-0.json</td>\n",
       "      <td>273.0</td>\n",
       "    </tr>\n",
       "    <tr>\n",
       "      <th>3</th>\n",
       "      <td>1000-7-noExperience-1.359-0.json</td>\n",
       "      <td>1.0</td>\n",
       "    </tr>\n",
       "    <tr>\n",
       "      <th>4</th>\n",
       "      <td>1001-7-between1And3-1.395-0.json</td>\n",
       "      <td>14.0</td>\n",
       "    </tr>\n",
       "  </tbody>\n",
       "</table>\n",
       "</div>"
      ],
      "text/plain": [
       "                          file_name  found\n",
       "0     1-1-noExperience-1.395-0.json   16.0\n",
       "1     10-1-noExperience-1.10-0.json   32.0\n",
       "2   100-1-between1And3-1.117-0.json  273.0\n",
       "3  1000-7-noExperience-1.359-0.json    1.0\n",
       "4  1001-7-between1And3-1.395-0.json   14.0"
      ]
     },
     "execution_count": 9,
     "metadata": {},
     "output_type": "execute_result"
    }
   ],
   "source": [
    "# создаем пустой датафрейм\n",
    "df_found = pd.DataFrame({'file_name': [], 'found': []})\n",
    "\n",
    "# Получаем перечень ранее созданных файлов со списком вакансий и проходимся по нему в цикле \n",
    "for fl in os.listdir('./vacancies_list'):\n",
    "\n",
    "    # Открываем файл, читаем его содержимое, закрываем файл\n",
    "    with open('./vacancies_list/{}'.format(fl), 'r', encoding='utf8') as f:\n",
    "        jsonText = f.read()\n",
    "     \n",
    "    # Преобразуем полученный текст в объект справочника\n",
    "    jsonObj = json.loads(jsonText)\n",
    "    \n",
    "    # Получаем количество найденных вакансий\n",
    "    df_found = df_found.append(\n",
    "        {\n",
    "            'file_name': fl,\n",
    "            'found': jsonObj['found']\n",
    "        }, \n",
    "        ignore_index=True)\n",
    "\n",
    "df_found.head()"
   ]
  },
  {
   "cell_type": "code",
   "execution_count": 10,
   "id": "hybrid-japanese",
   "metadata": {},
   "outputs": [],
   "source": [
    "assert len(df_found[df_found['found'] >= 2000]) == 0"
   ]
  }
 ],
 "metadata": {
  "kernelspec": {
   "display_name": "Python 3",
   "language": "python",
   "name": "python3"
  },
  "language_info": {
   "codemirror_mode": {
    "name": "ipython",
    "version": 3
   },
   "file_extension": ".py",
   "mimetype": "text/x-python",
   "name": "python",
   "nbconvert_exporter": "python",
   "pygments_lexer": "ipython3",
   "version": "3.7.4"
  }
 },
 "nbformat": 4,
 "nbformat_minor": 5
}
