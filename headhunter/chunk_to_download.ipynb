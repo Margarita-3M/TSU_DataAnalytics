{
 "cells": [
  {
   "cell_type": "markdown",
   "id": "identified-signature",
   "metadata": {},
   "source": [
    "# Файл для сверки, скачаны ли все файлы"
   ]
  },
  {
   "cell_type": "code",
   "execution_count": null,
   "id": "static-disclosure",
   "metadata": {},
   "outputs": [],
   "source": [
    "import requests\n",
    "import json\n",
    "import os\n",
    "import time\n",
    "import random\n",
    "import pandas as pd\n",
    "import csv\n",
    "import re"
   ]
  },
  {
   "cell_type": "code",
   "execution_count": null,
   "id": "pressed-short",
   "metadata": {},
   "outputs": [],
   "source": [
    "# считываем список вакансий для скачивания\n",
    "df_vacancies_unique = pd.read_csv('./uniqie_vac_withID.csv')\n",
    "df_vacancies_unique.info()"
   ]
  },
  {
   "cell_type": "code",
   "execution_count": null,
   "id": "wicked-yeast",
   "metadata": {},
   "outputs": [],
   "source": [
    "# считываем скачанные вакансии\n",
    "vac_downloaded = []\n",
    "\n",
    "for fl in os.listdir('./vacancies_descr'):   \n",
    "    with open('./vacancies_descr/{}'.format(fl), 'r', encoding='utf8') as f_read:\n",
    "        jsonText = f_read.read()\n",
    "#     print(fl)\n",
    "    v = json.loads(jsonText)\n",
    "    \n",
    "    try:\n",
    "        vacancy_id = v['id']\n",
    "    except:\n",
    "        pass\n",
    "    vac_downloaded.append(vacancy_id)\n",
    "    \n",
    "df_downloaded = pd.DataFrame(vac_downloaded, columns=['id'])\n",
    "df_downloaded['id'] = df_downloaded['id'].astype('int32')\n",
    "df_downloaded['downloaded'] = True\n",
    "df_downloaded.info()"
   ]
  },
  {
   "cell_type": "code",
   "execution_count": null,
   "id": "acceptable-pioneer",
   "metadata": {},
   "outputs": [],
   "source": [
    "# вывод нечкачанных вакансий\n",
    "df_combi = df_vacancies_unique.merge(df_downloaded, how='left')\n",
    "df_combi[df_combi['downloaded'].isnull()]['url'].to_csv('./chunk.csv', header=False, index=False)\n",
    "print('Успешно скачано: ', round((1 - (df_combi[df_combi['downloaded'].isnull()].shape[0]) / df_vacancies_unique.shape[0]) * 100, 3), '%')"
   ]
  }
 ],
 "metadata": {
  "kernelspec": {
   "display_name": "Python 3",
   "language": "python",
   "name": "python3"
  },
  "language_info": {
   "codemirror_mode": {
    "name": "ipython",
    "version": 3
   },
   "file_extension": ".py",
   "mimetype": "text/x-python",
   "name": "python",
   "nbconvert_exporter": "python",
   "pygments_lexer": "ipython3",
   "version": "3.7.4"
  }
 },
 "nbformat": 4,
 "nbformat_minor": 5
}
